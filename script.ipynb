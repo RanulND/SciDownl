{
 "cells": [
  {
   "cell_type": "code",
   "execution_count": 1,
   "metadata": {},
   "outputs": [
    {
     "name": "stdout",
     "output_type": "stream",
     "text": [
      "Requirement already satisfied: pandas in /opt/homebrew/lib/python3.10/site-packages (2.0.1)\n",
      "Requirement already satisfied: numpy>=1.21.0 in /opt/homebrew/lib/python3.10/site-packages (from pandas) (1.24.3)\n",
      "Requirement already satisfied: python-dateutil>=2.8.2 in /Users/ranul/Library/Python/3.10/lib/python/site-packages (from pandas) (2.8.2)\n",
      "Requirement already satisfied: tzdata>=2022.1 in /opt/homebrew/lib/python3.10/site-packages (from pandas) (2023.3)\n",
      "Requirement already satisfied: pytz>=2020.1 in /opt/homebrew/lib/python3.10/site-packages (from pandas) (2020.1)\n",
      "Requirement already satisfied: six>=1.5 in /Users/ranul/Library/Python/3.10/lib/python/site-packages (from python-dateutil>=2.8.2->pandas) (1.16.0)\n",
      "\n",
      "\u001b[1m[\u001b[0m\u001b[34;49mnotice\u001b[0m\u001b[1;39;49m]\u001b[0m\u001b[39;49m A new release of pip is available: \u001b[0m\u001b[31;49m23.0.1\u001b[0m\u001b[39;49m -> \u001b[0m\u001b[32;49m23.3.2\u001b[0m\n",
      "\u001b[1m[\u001b[0m\u001b[34;49mnotice\u001b[0m\u001b[1;39;49m]\u001b[0m\u001b[39;49m To update, run: \u001b[0m\u001b[32;49mpython3.10 -m pip install --upgrade pip\u001b[0m\n"
     ]
    }
   ],
   "source": [
    "!pip install pandas"
   ]
  },
  {
   "cell_type": "code",
   "execution_count": 2,
   "metadata": {},
   "outputs": [
    {
     "name": "stdout",
     "output_type": "stream",
     "text": [
      "/opt/homebrew/lib/python3.11/site-packages/setuptools/dist.py:788: UserWarning: Usage of dash-separated 'description-file' will not be supported in future versions. Please use the underscore name 'description_file' instead\n",
      "  warnings.warn(\n",
      "running install\n",
      "/opt/homebrew/lib/python3.11/site-packages/setuptools/command/install.py:34: SetuptoolsDeprecationWarning: setup.py install is deprecated. Use build and pip and other standards-based tools.\n",
      "  warnings.warn(\n",
      "/opt/homebrew/lib/python3.11/site-packages/setuptools/command/easy_install.py:144: EasyInstallDeprecationWarning: easy_install command is deprecated. Use build and pip and other standards-based tools.\n",
      "  warnings.warn(\n",
      "running bdist_egg\n",
      "running egg_info\n",
      "writing scidownl.egg-info/PKG-INFO\n",
      "writing dependency_links to scidownl.egg-info/dependency_links.txt\n",
      "writing entry points to scidownl.egg-info/entry_points.txt\n",
      "writing requirements to scidownl.egg-info/requires.txt\n",
      "writing top-level names to scidownl.egg-info/top_level.txt\n",
      "reading manifest file 'scidownl.egg-info/SOURCES.txt'\n",
      "reading manifest template 'MANIFEST.in'\n",
      "adding license file 'LICENSE'\n",
      "writing manifest file 'scidownl.egg-info/SOURCES.txt'\n",
      "installing library code to build/bdist.macosx-13-arm64/egg\n",
      "running install_lib\n",
      "running build_py\n",
      "/opt/homebrew/lib/python3.11/site-packages/setuptools/command/build_py.py:202: SetuptoolsDeprecationWarning:     Installing 'scidownl.config' as data is deprecated, please list it in `packages`.\n",
      "    !!\n",
      "\n",
      "\n",
      "    ############################\n",
      "    # Package would be ignored #\n",
      "    ############################\n",
      "    Python recognizes 'scidownl.config' as an importable package,\n",
      "    but it is not listed in the `packages` configuration of setuptools.\n",
      "\n",
      "    'scidownl.config' has been automatically added to the distribution only\n",
      "    because it may contain data files, but this behavior is likely to change\n",
      "    in future versions of setuptools (and therefore is considered deprecated).\n",
      "\n",
      "    Please make sure that 'scidownl.config' is included as a package by using\n",
      "    the `packages` configuration field or the proper discovery methods\n",
      "    (for example by using `find_namespace_packages(...)`/`find_namespace:`\n",
      "    instead of `find_packages(...)`/`find:`).\n",
      "\n",
      "    You can read more about \"package discovery\" and \"data files\" on setuptools\n",
      "    documentation page.\n",
      "\n",
      "\n",
      "!!\n",
      "\n",
      "  check.warn(importable)\n",
      "creating build/bdist.macosx-13-arm64/egg\n",
      "creating build/bdist.macosx-13-arm64/egg/scidownl\n",
      "copying build/lib/scidownl/exception.py -> build/bdist.macosx-13-arm64/egg/scidownl\n",
      "copying build/lib/scidownl/config.py -> build/bdist.macosx-13-arm64/egg/scidownl\n",
      "creating build/bdist.macosx-13-arm64/egg/scidownl/core\n",
      "copying build/lib/scidownl/core/task.py -> build/bdist.macosx-13-arm64/egg/scidownl/core\n",
      "copying build/lib/scidownl/core/information.py -> build/bdist.macosx-13-arm64/egg/scidownl/core\n",
      "copying build/lib/scidownl/core/downloader.py -> build/bdist.macosx-13-arm64/egg/scidownl/core\n",
      "copying build/lib/scidownl/core/__init__.py -> build/bdist.macosx-13-arm64/egg/scidownl/core\n",
      "copying build/lib/scidownl/core/chooser.py -> build/bdist.macosx-13-arm64/egg/scidownl/core\n",
      "copying build/lib/scidownl/core/extractor.py -> build/bdist.macosx-13-arm64/egg/scidownl/core\n",
      "copying build/lib/scidownl/core/updater.py -> build/bdist.macosx-13-arm64/egg/scidownl/core\n",
      "copying build/lib/scidownl/core/content.py -> build/bdist.macosx-13-arm64/egg/scidownl/core\n",
      "copying build/lib/scidownl/core/source.py -> build/bdist.macosx-13-arm64/egg/scidownl/core\n",
      "copying build/lib/scidownl/core/base.py -> build/bdist.macosx-13-arm64/egg/scidownl/core\n",
      "copying build/lib/scidownl/core/crawler.py -> build/bdist.macosx-13-arm64/egg/scidownl/core\n",
      "creating build/bdist.macosx-13-arm64/egg/scidownl/config\n",
      "copying build/lib/scidownl/config/global.ini -> build/bdist.macosx-13-arm64/egg/scidownl/config\n",
      "copying build/lib/scidownl/log.py -> build/bdist.macosx-13-arm64/egg/scidownl\n",
      "copying build/lib/scidownl/__init__.py -> build/bdist.macosx-13-arm64/egg/scidownl\n",
      "creating build/bdist.macosx-13-arm64/egg/scidownl/db\n",
      "copying build/lib/scidownl/db/service.py -> build/bdist.macosx-13-arm64/egg/scidownl/db\n",
      "copying build/lib/scidownl/db/__init__.py -> build/bdist.macosx-13-arm64/egg/scidownl/db\n",
      "copying build/lib/scidownl/db/entities.py -> build/bdist.macosx-13-arm64/egg/scidownl/db\n",
      "creating build/bdist.macosx-13-arm64/egg/scidownl/api\n",
      "copying build/lib/scidownl/api/__init__.py -> build/bdist.macosx-13-arm64/egg/scidownl/api\n",
      "copying build/lib/scidownl/api/scihub.py -> build/bdist.macosx-13-arm64/egg/scidownl/api\n",
      "copying build/lib/scidownl/api/cli.py -> build/bdist.macosx-13-arm64/egg/scidownl/api\n",
      "creating build/bdist.macosx-13-arm64/egg/example\n",
      "copying build/lib/example/__init__.py -> build/bdist.macosx-13-arm64/egg/example\n",
      "copying build/lib/example/simple.py -> build/bdist.macosx-13-arm64/egg/example\n",
      "byte-compiling build/bdist.macosx-13-arm64/egg/scidownl/exception.py to exception.cpython-311.pyc\n",
      "byte-compiling build/bdist.macosx-13-arm64/egg/scidownl/config.py to config.cpython-311.pyc\n",
      "byte-compiling build/bdist.macosx-13-arm64/egg/scidownl/core/task.py to task.cpython-311.pyc\n",
      "byte-compiling build/bdist.macosx-13-arm64/egg/scidownl/core/information.py to information.cpython-311.pyc\n",
      "byte-compiling build/bdist.macosx-13-arm64/egg/scidownl/core/downloader.py to downloader.cpython-311.pyc\n",
      "byte-compiling build/bdist.macosx-13-arm64/egg/scidownl/core/__init__.py to __init__.cpython-311.pyc\n",
      "byte-compiling build/bdist.macosx-13-arm64/egg/scidownl/core/chooser.py to chooser.cpython-311.pyc\n",
      "byte-compiling build/bdist.macosx-13-arm64/egg/scidownl/core/extractor.py to extractor.cpython-311.pyc\n",
      "byte-compiling build/bdist.macosx-13-arm64/egg/scidownl/core/updater.py to updater.cpython-311.pyc\n",
      "byte-compiling build/bdist.macosx-13-arm64/egg/scidownl/core/content.py to content.cpython-311.pyc\n",
      "byte-compiling build/bdist.macosx-13-arm64/egg/scidownl/core/source.py to source.cpython-311.pyc\n",
      "byte-compiling build/bdist.macosx-13-arm64/egg/scidownl/core/base.py to base.cpython-311.pyc\n",
      "byte-compiling build/bdist.macosx-13-arm64/egg/scidownl/core/crawler.py to crawler.cpython-311.pyc\n",
      "byte-compiling build/bdist.macosx-13-arm64/egg/scidownl/log.py to log.cpython-311.pyc\n",
      "byte-compiling build/bdist.macosx-13-arm64/egg/scidownl/__init__.py to __init__.cpython-311.pyc\n",
      "byte-compiling build/bdist.macosx-13-arm64/egg/scidownl/db/service.py to service.cpython-311.pyc\n",
      "byte-compiling build/bdist.macosx-13-arm64/egg/scidownl/db/__init__.py to __init__.cpython-311.pyc\n",
      "byte-compiling build/bdist.macosx-13-arm64/egg/scidownl/db/entities.py to entities.cpython-311.pyc\n",
      "byte-compiling build/bdist.macosx-13-arm64/egg/scidownl/api/__init__.py to __init__.cpython-311.pyc\n",
      "byte-compiling build/bdist.macosx-13-arm64/egg/scidownl/api/scihub.py to scihub.cpython-311.pyc\n",
      "byte-compiling build/bdist.macosx-13-arm64/egg/scidownl/api/cli.py to cli.cpython-311.pyc\n",
      "byte-compiling build/bdist.macosx-13-arm64/egg/example/__init__.py to __init__.cpython-311.pyc\n",
      "byte-compiling build/bdist.macosx-13-arm64/egg/example/simple.py to simple.cpython-311.pyc\n",
      "creating build/bdist.macosx-13-arm64/egg/EGG-INFO\n",
      "copying scidownl.egg-info/PKG-INFO -> build/bdist.macosx-13-arm64/egg/EGG-INFO\n",
      "copying scidownl.egg-info/SOURCES.txt -> build/bdist.macosx-13-arm64/egg/EGG-INFO\n",
      "copying scidownl.egg-info/dependency_links.txt -> build/bdist.macosx-13-arm64/egg/EGG-INFO\n",
      "copying scidownl.egg-info/entry_points.txt -> build/bdist.macosx-13-arm64/egg/EGG-INFO\n",
      "copying scidownl.egg-info/requires.txt -> build/bdist.macosx-13-arm64/egg/EGG-INFO\n",
      "copying scidownl.egg-info/top_level.txt -> build/bdist.macosx-13-arm64/egg/EGG-INFO\n",
      "zip_safe flag not set; analyzing archive contents...\n",
      "scidownl.__pycache__.config.cpython-311: module references __file__\n",
      "scidownl.db.__pycache__.entities.cpython-311: module references __file__\n",
      "creating 'dist/scidownl-1.0.2-py3.11.egg' and adding 'build/bdist.macosx-13-arm64/egg' to it\n",
      "removing 'build/bdist.macosx-13-arm64/egg' (and everything under it)\n",
      "Processing scidownl-1.0.2-py3.11.egg\n",
      "removing '/opt/homebrew/lib/python3.11/site-packages/scidownl-1.0.2-py3.11.egg' (and everything under it)\n",
      "creating /opt/homebrew/lib/python3.11/site-packages/scidownl-1.0.2-py3.11.egg\n",
      "Extracting scidownl-1.0.2-py3.11.egg to /opt/homebrew/lib/python3.11/site-packages\n",
      "scidownl 1.0.2 is already the active version in easy-install.pth\n",
      "Installing scidownl script to /opt/homebrew/bin\n",
      "\n",
      "Installed /opt/homebrew/lib/python3.11/site-packages/scidownl-1.0.2-py3.11.egg\n",
      "Processing dependencies for scidownl==1.0.2\n",
      "Searching for wget==3.2\n",
      "Best match: wget 3.2\n",
      "Processing wget-3.2-py3.11.egg\n",
      "wget 3.2 is already the active version in easy-install.pth\n",
      "\n",
      "Using /opt/homebrew/lib/python3.11/site-packages/wget-3.2-py3.11.egg\n",
      "Searching for tablib==3.5.0\n",
      "Best match: tablib 3.5.0\n",
      "Processing tablib-3.5.0-py3.11.egg\n",
      "tablib 3.5.0 is already the active version in easy-install.pth\n",
      "\n",
      "Using /opt/homebrew/lib/python3.11/site-packages/tablib-3.5.0-py3.11.egg\n",
      "Searching for SQLAlchemy==2.0.23\n",
      "Best match: SQLAlchemy 2.0.23\n",
      "Processing SQLAlchemy-2.0.23-py3.11-macosx-13-arm64.egg\n",
      "SQLAlchemy 2.0.23 is already the active version in easy-install.pth\n",
      "\n",
      "Using /opt/homebrew/lib/python3.11/site-packages/SQLAlchemy-2.0.23-py3.11-macosx-13-arm64.egg\n",
      "Searching for setuptools==67.6.1\n",
      "Best match: setuptools 67.6.1\n",
      "Adding setuptools 67.6.1 to easy-install.pth file\n",
      "\n",
      "Using /opt/homebrew/lib/python3.11/site-packages\n",
      "Searching for PySocks==1.7.1\n",
      "Best match: PySocks 1.7.1\n",
      "Processing PySocks-1.7.1-py3.11.egg\n",
      "PySocks 1.7.1 is already the active version in easy-install.pth\n",
      "\n",
      "Using /opt/homebrew/lib/python3.11/site-packages/PySocks-1.7.1-py3.11.egg\n",
      "Searching for requests==2.31.0\n",
      "Best match: requests 2.31.0\n",
      "Adding requests 2.31.0 to easy-install.pth file\n",
      "\n",
      "Using /opt/homebrew/lib/python3.11/site-packages\n",
      "Searching for loguru==0.7.2\n",
      "Best match: loguru 0.7.2\n",
      "Processing loguru-0.7.2-py3.11.egg\n",
      "loguru 0.7.2 is already the active version in easy-install.pth\n",
      "\n",
      "Using /opt/homebrew/lib/python3.11/site-packages/loguru-0.7.2-py3.11.egg\n",
      "Searching for click==8.1.7\n",
      "Best match: click 8.1.7\n",
      "Processing click-8.1.7-py3.11.egg\n",
      "click 8.1.7 is already the active version in easy-install.pth\n",
      "\n",
      "Using /opt/homebrew/lib/python3.11/site-packages/click-8.1.7-py3.11.egg\n",
      "Searching for beautifulsoup4==4.12.2\n",
      "Best match: beautifulsoup4 4.12.2\n",
      "Adding beautifulsoup4 4.12.2 to easy-install.pth file\n",
      "\n",
      "Using /opt/homebrew/lib/python3.11/site-packages\n",
      "Searching for tabulate==0.9.0\n",
      "Best match: tabulate 0.9.0\n",
      "Adding tabulate 0.9.0 to easy-install.pth file\n",
      "Installing tabulate script to /opt/homebrew/bin\n",
      "\n",
      "Using /opt/homebrew/lib/python3.11/site-packages\n",
      "Searching for typing-extensions==4.9.0\n",
      "Best match: typing-extensions 4.9.0\n",
      "Processing typing_extensions-4.9.0-py3.11.egg\n",
      "typing-extensions 4.9.0 is already the active version in easy-install.pth\n",
      "\n",
      "Using /opt/homebrew/lib/python3.11/site-packages/typing_extensions-4.9.0-py3.11.egg\n",
      "Searching for certifi==2023.7.22\n",
      "Best match: certifi 2023.7.22\n",
      "Adding certifi 2023.7.22 to easy-install.pth file\n",
      "\n",
      "Using /opt/homebrew/lib/python3.11/site-packages\n",
      "Searching for urllib3==2.0.4\n",
      "Best match: urllib3 2.0.4\n",
      "Adding urllib3 2.0.4 to easy-install.pth file\n",
      "\n",
      "Using /opt/homebrew/lib/python3.11/site-packages\n",
      "Searching for idna==3.4\n",
      "Best match: idna 3.4\n",
      "Adding idna 3.4 to easy-install.pth file\n",
      "\n",
      "Using /opt/homebrew/lib/python3.11/site-packages\n",
      "Searching for charset-normalizer==3.2.0\n",
      "Best match: charset-normalizer 3.2.0\n",
      "Adding charset-normalizer 3.2.0 to easy-install.pth file\n",
      "Installing normalizer script to /opt/homebrew/bin\n",
      "\n",
      "Using /opt/homebrew/lib/python3.11/site-packages\n",
      "Searching for soupsieve==2.5\n",
      "Best match: soupsieve 2.5\n",
      "Adding soupsieve 2.5 to easy-install.pth file\n",
      "\n",
      "Using /opt/homebrew/lib/python3.11/site-packages\n",
      "Finished processing dependencies for scidownl==1.0.2\n"
     ]
    }
   ],
   "source": [
    "!python3 setup.py install"
   ]
  },
  {
   "cell_type": "code",
   "execution_count": 3,
   "metadata": {},
   "outputs": [],
   "source": [
    "import pandas as pd\n",
    "import os"
   ]
  },
  {
   "cell_type": "code",
   "execution_count": 4,
   "metadata": {},
   "outputs": [],
   "source": [
    "csv_path = '/Users/ranul/Academics/FYP/data/test_csvs/test_splits/0/file2.csv'\n",
    "df = pd.read_csv(csv_path,names=[\"id\",\"test2\",\"Publisher\",\"4\",\"5\",\"Date\",\"DOI\",\"Type\",\"9\",\"Title\",\"Authors\",\"12\",\"13\",\"Subjects\"])"
   ]
  },
  {
   "cell_type": "code",
   "execution_count": 5,
   "metadata": {},
   "outputs": [
    {
     "data": {
      "text/html": [
       "<div>\n",
       "<style scoped>\n",
       "    .dataframe tbody tr th:only-of-type {\n",
       "        vertical-align: middle;\n",
       "    }\n",
       "\n",
       "    .dataframe tbody tr th {\n",
       "        vertical-align: top;\n",
       "    }\n",
       "\n",
       "    .dataframe thead th {\n",
       "        text-align: right;\n",
       "    }\n",
       "</style>\n",
       "<table border=\"1\" class=\"dataframe\">\n",
       "  <thead>\n",
       "    <tr style=\"text-align: right;\">\n",
       "      <th></th>\n",
       "      <th>id</th>\n",
       "      <th>test2</th>\n",
       "      <th>Publisher</th>\n",
       "      <th>4</th>\n",
       "      <th>5</th>\n",
       "      <th>Date</th>\n",
       "      <th>DOI</th>\n",
       "      <th>Type</th>\n",
       "      <th>9</th>\n",
       "      <th>Title</th>\n",
       "      <th>Authors</th>\n",
       "      <th>12</th>\n",
       "      <th>13</th>\n",
       "      <th>Subjects</th>\n",
       "    </tr>\n",
       "  </thead>\n",
       "  <tbody>\n",
       "    <tr>\n",
       "      <th>0</th>\n",
       "      <td>{'$oid': '58d1a80f0c62134f84669312'}</td>\n",
       "      <td>0</td>\n",
       "      <td>American Medical Association (AMA)</td>\n",
       "      <td>8</td>\n",
       "      <td>0</td>\n",
       "      <td>{'date-parts': [[1979, 8, 1]]}</td>\n",
       "      <td>10.1001/archderm.115.8.950</td>\n",
       "      <td>journal-article</td>\n",
       "      <td>950-955</td>\n",
       "      <td>['Cancer and scleroderma']</td>\n",
       "      <td>['S. C. Duncan']</td>\n",
       "      <td>['0003-987X']</td>\n",
       "      <td>0</td>\n",
       "      <td>['Dermatology']</td>\n",
       "    </tr>\n",
       "    <tr>\n",
       "      <th>1</th>\n",
       "      <td>{'$oid': '58d1a80f0c62134f84669314'}</td>\n",
       "      <td>0</td>\n",
       "      <td>American Medical Association (AMA)</td>\n",
       "      <td>8</td>\n",
       "      <td>0</td>\n",
       "      <td>{'date-parts': [[1979, 8, 1]]}</td>\n",
       "      <td>10.1001/archderm.115.8.956</td>\n",
       "      <td>journal-article</td>\n",
       "      <td>956-958</td>\n",
       "      <td>['Dermopathic changes in hypozincemia']</td>\n",
       "      <td>['N. N. Abou-Mourad']</td>\n",
       "      <td>['0003-987X']</td>\n",
       "      <td>0</td>\n",
       "      <td>['Dermatology']</td>\n",
       "    </tr>\n",
       "    <tr>\n",
       "      <th>2</th>\n",
       "      <td>{'$oid': '58d1a80f0c62134f84669316'}</td>\n",
       "      <td>0</td>\n",
       "      <td>American Medical Association (AMA)</td>\n",
       "      <td>8</td>\n",
       "      <td>0</td>\n",
       "      <td>{'date-parts': [[1979, 8, 1]]}</td>\n",
       "      <td>10.1001/archderm.115.8.959</td>\n",
       "      <td>journal-article</td>\n",
       "      <td>959-962</td>\n",
       "      <td>['Allergic contact hypersensitivity to nickel,...</td>\n",
       "      <td>['S. D. Prystowsky']</td>\n",
       "      <td>['0003-987X']</td>\n",
       "      <td>0</td>\n",
       "      <td>['Dermatology']</td>\n",
       "    </tr>\n",
       "    <tr>\n",
       "      <th>3</th>\n",
       "      <td>{'$oid': '58d1a80f0c62134f84669318'}</td>\n",
       "      <td>0</td>\n",
       "      <td>American Medical Association (AMA)</td>\n",
       "      <td>8</td>\n",
       "      <td>0</td>\n",
       "      <td>{'date-parts': [[1979, 8, 1]]}</td>\n",
       "      <td>10.1001/archderm.115.8.963</td>\n",
       "      <td>journal-article</td>\n",
       "      <td>963-965</td>\n",
       "      <td>['Flushing syndrome due to mahimahi (scombroid...</td>\n",
       "      <td>['R. Kim']</td>\n",
       "      <td>['0003-987X']</td>\n",
       "      <td>0</td>\n",
       "      <td>['Dermatology']</td>\n",
       "    </tr>\n",
       "    <tr>\n",
       "      <th>4</th>\n",
       "      <td>{'$oid': '58d1a80f0c62134f8466931a'}</td>\n",
       "      <td>0</td>\n",
       "      <td>American Medical Association (AMA)</td>\n",
       "      <td>8</td>\n",
       "      <td>0</td>\n",
       "      <td>{'date-parts': [[1979, 8, 1]]}</td>\n",
       "      <td>10.1001/archderm.115.8.966</td>\n",
       "      <td>journal-article</td>\n",
       "      <td>966-968</td>\n",
       "      <td>['Tinea versicolor with regard to seborrheic d...</td>\n",
       "      <td>['J. Faergemann']</td>\n",
       "      <td>['0003-987X']</td>\n",
       "      <td>0</td>\n",
       "      <td>['Dermatology']</td>\n",
       "    </tr>\n",
       "  </tbody>\n",
       "</table>\n",
       "</div>"
      ],
      "text/plain": [
       "                                     id  test2  \\\n",
       "0  {'$oid': '58d1a80f0c62134f84669312'}      0   \n",
       "1  {'$oid': '58d1a80f0c62134f84669314'}      0   \n",
       "2  {'$oid': '58d1a80f0c62134f84669316'}      0   \n",
       "3  {'$oid': '58d1a80f0c62134f84669318'}      0   \n",
       "4  {'$oid': '58d1a80f0c62134f8466931a'}      0   \n",
       "\n",
       "                            Publisher  4  5                            Date  \\\n",
       "0  American Medical Association (AMA)  8  0  {'date-parts': [[1979, 8, 1]]}   \n",
       "1  American Medical Association (AMA)  8  0  {'date-parts': [[1979, 8, 1]]}   \n",
       "2  American Medical Association (AMA)  8  0  {'date-parts': [[1979, 8, 1]]}   \n",
       "3  American Medical Association (AMA)  8  0  {'date-parts': [[1979, 8, 1]]}   \n",
       "4  American Medical Association (AMA)  8  0  {'date-parts': [[1979, 8, 1]]}   \n",
       "\n",
       "                          DOI             Type        9  \\\n",
       "0  10.1001/archderm.115.8.950  journal-article  950-955   \n",
       "1  10.1001/archderm.115.8.956  journal-article  956-958   \n",
       "2  10.1001/archderm.115.8.959  journal-article  959-962   \n",
       "3  10.1001/archderm.115.8.963  journal-article  963-965   \n",
       "4  10.1001/archderm.115.8.966  journal-article  966-968   \n",
       "\n",
       "                                               Title                Authors  \\\n",
       "0                         ['Cancer and scleroderma']       ['S. C. Duncan']   \n",
       "1            ['Dermopathic changes in hypozincemia']  ['N. N. Abou-Mourad']   \n",
       "2  ['Allergic contact hypersensitivity to nickel,...   ['S. D. Prystowsky']   \n",
       "3  ['Flushing syndrome due to mahimahi (scombroid...             ['R. Kim']   \n",
       "4  ['Tinea versicolor with regard to seborrheic d...      ['J. Faergemann']   \n",
       "\n",
       "              12  13         Subjects  \n",
       "0  ['0003-987X']   0  ['Dermatology']  \n",
       "1  ['0003-987X']   0  ['Dermatology']  \n",
       "2  ['0003-987X']   0  ['Dermatology']  \n",
       "3  ['0003-987X']   0  ['Dermatology']  \n",
       "4  ['0003-987X']   0  ['Dermatology']  "
      ]
     },
     "execution_count": 5,
     "metadata": {},
     "output_type": "execute_result"
    }
   ],
   "source": [
    "df.head()"
   ]
  },
  {
   "cell_type": "code",
   "execution_count": 6,
   "metadata": {},
   "outputs": [],
   "source": [
    "df['Title'] = df['Title'].apply(lambda x: x.replace('[',\"\").replace(']',\"\").replace(\"'\",\"\"))"
   ]
  },
  {
   "cell_type": "code",
   "execution_count": 7,
   "metadata": {},
   "outputs": [],
   "source": [
    "output_path = '/Users/ranul/Academics/FYP/docs1/'"
   ]
  },
  {
   "cell_type": "code",
   "execution_count": 8,
   "metadata": {},
   "outputs": [
    {
     "name": "stdout",
     "output_type": "stream",
     "text": [
      "\u001b[1m[INFO]\u001b[0m | \u001b[32m2023/12/28 02:13:38\u001b[0m | \u001b[1mFound 6 valid SciHub domains in total: ['https://sci-hub.se', 'https://sci-hub.ru', 'http://sci-hub.ru', 'http://sci-hub.se', 'https://sci-hub.st', 'http://sci-hub.st']\u001b[0m\n",
      "\u001b[1m[INFO]\u001b[0m | \u001b[32m2023/12/28 02:13:38\u001b[0m | \u001b[1mSaved 6 SciHub domains to local db.\u001b[0m\n"
     ]
    }
   ],
   "source": [
    "!scidownl domain.update --mode crawl"
   ]
  },
  {
   "cell_type": "code",
   "execution_count": 9,
   "metadata": {},
   "outputs": [
    {
     "name": "stdout",
     "output_type": "stream",
     "text": [
      "+--------------------+----------------+---------------+\n",
      "| Url                |   SuccessTimes |   FailedTimes |\n",
      "|--------------------+----------------+---------------|\n",
      "| https://sci-hub.se |              0 |             0 |\n",
      "| https://sci-hub.ru |              0 |             0 |\n",
      "| http://sci-hub.ru  |              0 |             0 |\n",
      "| http://sci-hub.se  |              0 |             0 |\n",
      "| https://sci-hub.st |              0 |             0 |\n",
      "| http://sci-hub.st  |              0 |             0 |\n",
      "+--------------------+----------------+---------------+\n"
     ]
    }
   ],
   "source": [
    "!scidownl domain.list"
   ]
  },
  {
   "cell_type": "code",
   "execution_count": 8,
   "metadata": {},
   "outputs": [],
   "source": [
    "from scidownl import scihub_download"
   ]
  },
  {
   "cell_type": "code",
   "execution_count": 9,
   "metadata": {},
   "outputs": [],
   "source": [
    "titles = df['Title'].values.tolist()\n",
    "dois = df['DOI'].values.tolist()"
   ]
  },
  {
   "cell_type": "code",
   "execution_count": 10,
   "metadata": {},
   "outputs": [],
   "source": [
    "status = []\n",
    "file_names = []\n",
    "t_count = 0\n",
    "f_count = 0\n",
    "nf_count = 0"
   ]
  },
  {
   "cell_type": "code",
   "execution_count": null,
   "metadata": {},
   "outputs": [],
   "source": [
    "for title in titles:\n",
    "    t_count = t_count + 1\n",
    "    if title == \"\":\n",
    "        file_names.append(\"\")\n",
    "        nf_count = nf_count + 1\n",
    "        status.append(\"not-found\")\n",
    "        print(\"progress \",t_count,\"of\",len(dois),'=>',\"not-found\")\n",
    "        continue\n",
    "    file = titles[t_count - 1].lower().strip().replace(' ','-').replace('/','') + '.pdf'\n",
    "    output = output_path  + file\n",
    "    x = scihub_download(title, paper_type=\"title\", out=output)\n",
    "    if x == 0:\n",
    "        file_names.append(\"\")\n",
    "        nf_count = nf_count + 1\n",
    "        status.append(\"not-found\")\n",
    "        print(\"progress \",t_count,\"of\",len(dois),'=>',\"not-found\")\n",
    "    else:\n",
    "        file_names.append(file)\n",
    "        status.append(\"found\")\n",
    "        f_count = f_count + 1\n",
    "        print(\"progress \",t_count,\" of \",len(dois),' => ',\"found\")\n",
    "\n",
    "\n",
    "    \n",
    "    "
   ]
  },
  {
   "cell_type": "code",
   "execution_count": 12,
   "metadata": {},
   "outputs": [
    {
     "data": {
      "text/plain": [
       "2000"
      ]
     },
     "execution_count": 12,
     "metadata": {},
     "output_type": "execute_result"
    }
   ],
   "source": [
    "t_count"
   ]
  },
  {
   "cell_type": "code",
   "execution_count": 13,
   "metadata": {},
   "outputs": [
    {
     "data": {
      "text/plain": [
       "2000"
      ]
     },
     "execution_count": 13,
     "metadata": {},
     "output_type": "execute_result"
    }
   ],
   "source": [
    "len(file_names)"
   ]
  },
  {
   "cell_type": "code",
   "execution_count": 14,
   "metadata": {},
   "outputs": [
    {
     "data": {
      "text/plain": [
       "2000"
      ]
     },
     "execution_count": 14,
     "metadata": {},
     "output_type": "execute_result"
    }
   ],
   "source": [
    "len(status)"
   ]
  },
  {
   "cell_type": "code",
   "execution_count": 15,
   "metadata": {},
   "outputs": [],
   "source": [
    "df['file_names'] = file_names\n",
    "df['status'] = status"
   ]
  },
  {
   "cell_type": "code",
   "execution_count": 17,
   "metadata": {},
   "outputs": [
    {
     "data": {
      "text/plain": [
       "''"
      ]
     },
     "execution_count": 17,
     "metadata": {},
     "output_type": "execute_result"
    }
   ],
   "source": [
    "df['file_names'][3]"
   ]
  },
  {
   "cell_type": "code",
   "execution_count": 16,
   "metadata": {},
   "outputs": [
    {
     "data": {
      "text/plain": [
       "1576"
      ]
     },
     "execution_count": 16,
     "metadata": {},
     "output_type": "execute_result"
    }
   ],
   "source": [
    "nf_count"
   ]
  },
  {
   "cell_type": "code",
   "execution_count": 17,
   "metadata": {},
   "outputs": [
    {
     "data": {
      "text/plain": [
       "424"
      ]
     },
     "execution_count": 17,
     "metadata": {},
     "output_type": "execute_result"
    }
   ],
   "source": [
    "f_count"
   ]
  },
  {
   "cell_type": "code",
   "execution_count": 18,
   "metadata": {},
   "outputs": [],
   "source": [
    "df.to_csv('/Users/ranul/Academics/FYP/data/completed_csvs/0_3.csv')"
   ]
  },
  {
   "cell_type": "markdown",
   "metadata": {},
   "source": [
    "----------------------------------------------------------------------------"
   ]
  },
  {
   "cell_type": "code",
   "execution_count": null,
   "metadata": {},
   "outputs": [],
   "source": [
    "# paper = \"10.1001/2013.jamainternmed.532\"\n",
    "paper = \"10.1001/archderm.100.2.141\"\n",
    "paper_type = \"doi\"\n",
    "out = \"/Users/ranul/Academics/FYP/test_docs/\""
   ]
  },
  {
   "cell_type": "code",
   "execution_count": null,
   "metadata": {},
   "outputs": [],
   "source": [
    "from scidownl import scihub_download"
   ]
  },
  {
   "cell_type": "code",
   "execution_count": null,
   "metadata": {},
   "outputs": [],
   "source": [
    "x = scihub_download(paper, paper_type=paper_type, out=out)"
   ]
  },
  {
   "cell_type": "code",
   "execution_count": null,
   "metadata": {},
   "outputs": [],
   "source": [
    "x "
   ]
  },
  {
   "cell_type": "code",
   "execution_count": null,
   "metadata": {},
   "outputs": [],
   "source": [
    "if x == 0:\n",
    "    print(\"failed\")\n",
    "else:\n",
    "    print(\"passed\")\n"
   ]
  }
 ],
 "metadata": {
  "kernelspec": {
   "display_name": "Python 3",
   "language": "python",
   "name": "python3"
  },
  "language_info": {
   "codemirror_mode": {
    "name": "ipython",
    "version": 3
   },
   "file_extension": ".py",
   "mimetype": "text/x-python",
   "name": "python",
   "nbconvert_exporter": "python",
   "pygments_lexer": "ipython3",
   "version": "3.11.3"
  }
 },
 "nbformat": 4,
 "nbformat_minor": 2
}
