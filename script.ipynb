{
 "cells": [
  {
   "cell_type": "code",
   "execution_count": null,
   "metadata": {},
   "outputs": [],
   "source": [
    "!pip install pandas"
   ]
  },
  {
   "cell_type": "code",
   "execution_count": null,
   "metadata": {},
   "outputs": [],
   "source": [
    "!python3 setup.py install"
   ]
  },
  {
   "cell_type": "code",
   "execution_count": null,
   "metadata": {},
   "outputs": [],
   "source": [
    "import pandas as pd\n",
    "import os"
   ]
  },
  {
   "cell_type": "code",
   "execution_count": null,
   "metadata": {},
   "outputs": [],
   "source": [
    "csv_path = '/Users/ranul/Academics/FYP/data/test_csvs/test_splits/0/file4.csv'\n",
    "df = pd.read_csv(csv_path,names=[\"id\",\"test2\",\"Publisher\",\"4\",\"5\",\"Date\",\"DOI\",\"Type\",\"9\",\"Title\",\"Authors\",\"12\",\"13\",\"Subjects\"])"
   ]
  },
  {
   "cell_type": "code",
   "execution_count": null,
   "metadata": {},
   "outputs": [],
   "source": [
    "df.head()"
   ]
  },
  {
   "cell_type": "code",
   "execution_count": null,
   "metadata": {},
   "outputs": [],
   "source": [
    "df['Title'] = df['Title'].apply(lambda x: x.replace('[',\"\").replace(']',\"\").replace(\"'\",\"\"))"
   ]
  },
  {
   "cell_type": "code",
   "execution_count": null,
   "metadata": {},
   "outputs": [],
   "source": [
    "output_path = '/Users/ranul/Academics/FYP/docs1/'"
   ]
  },
  {
   "cell_type": "code",
   "execution_count": null,
   "metadata": {},
   "outputs": [],
   "source": [
    "!scidownl domain.update --mode crawl"
   ]
  },
  {
   "cell_type": "code",
   "execution_count": null,
   "metadata": {},
   "outputs": [],
   "source": [
    "!scidownl domain.list"
   ]
  },
  {
   "cell_type": "code",
   "execution_count": null,
   "metadata": {},
   "outputs": [],
   "source": [
    "from scidownl import scihub_download"
   ]
  },
  {
   "cell_type": "code",
   "execution_count": null,
   "metadata": {},
   "outputs": [],
   "source": [
    "titles = df['Title'].values.tolist()\n",
    "dois = df['DOI'].values.tolist()"
   ]
  },
  {
   "cell_type": "code",
   "execution_count": null,
   "metadata": {},
   "outputs": [],
   "source": [
    "status = []\n",
    "file_names = []\n",
    "t_count = 0\n",
    "f_count = 0\n",
    "nf_count = 0"
   ]
  },
  {
   "cell_type": "code",
   "execution_count": 12,
   "metadata": {},
   "outputs": [],
   "source": [
    "for title in titles:\n",
    "    t_count = t_count + 1\n",
    "    if title == \"\":\n",
    "        file_names.append(\"\")\n",
    "        nf_count = nf_count + 1\n",
    "        status.append(\"not-found\")\n",
    "        print(\"progress \",t_count,\"of\",len(titles),'=>',\"not-found\")\n",
    "        continue\n",
    "    file = titles[t_count - 1].lower().strip().replace(' ','-').replace('/','') + '.pdf'\n",
    "    output = output_path  + file\n",
    "    x = scihub_download(title, paper_type=\"title\", out=output)\n",
    "    if x == 0:\n",
    "        file_names.append(\"\")\n",
    "        nf_count = nf_count + 1\n",
    "        status.append(\"not-found\")\n",
    "        print(\"progress \",t_count,\"of\",len(titles),'=>',\"not-found\")\n",
    "    else:\n",
    "        file_names.append(file)\n",
    "        status.append(\"found\")\n",
    "        f_count = f_count + 1\n",
    "        print(\"progress \",t_count,\" of \",len(titles),' => ',\"found\")\n"
   ]
  },
  {
   "cell_type": "code",
   "execution_count": null,
   "metadata": {},
   "outputs": [],
   "source": [
    "t_count"
   ]
  },
  {
   "cell_type": "code",
   "execution_count": null,
   "metadata": {},
   "outputs": [],
   "source": [
    "len(file_names)"
   ]
  },
  {
   "cell_type": "code",
   "execution_count": null,
   "metadata": {},
   "outputs": [],
   "source": [
    "len(status)"
   ]
  },
  {
   "cell_type": "code",
   "execution_count": null,
   "metadata": {},
   "outputs": [],
   "source": [
    "df['file_names'] = file_names\n",
    "df['status'] = status"
   ]
  },
  {
   "cell_type": "code",
   "execution_count": null,
   "metadata": {},
   "outputs": [],
   "source": [
    "df['file_names'][3]"
   ]
  },
  {
   "cell_type": "code",
   "execution_count": null,
   "metadata": {},
   "outputs": [],
   "source": [
    "nf_count"
   ]
  },
  {
   "cell_type": "code",
   "execution_count": null,
   "metadata": {},
   "outputs": [],
   "source": [
    "f_count"
   ]
  },
  {
   "cell_type": "code",
   "execution_count": null,
   "metadata": {},
   "outputs": [],
   "source": [
    "df.to_csv('/Users/ranul/Academics/FYP/data/completed_csvs/0_5.csv')"
   ]
  },
  {
   "cell_type": "markdown",
   "metadata": {},
   "source": [
    "----------------------------------------------------------------------------"
   ]
  },
  {
   "cell_type": "code",
   "execution_count": null,
   "metadata": {},
   "outputs": [],
   "source": [
    "# paper = \"10.1001/2013.jamainternmed.532\"\n",
    "paper = \"10.1001/archderm.100.2.141\"\n",
    "paper_type = \"doi\"\n",
    "out = \"/Users/ranul/Academics/FYP/test_docs/\""
   ]
  },
  {
   "cell_type": "code",
   "execution_count": null,
   "metadata": {},
   "outputs": [],
   "source": [
    "from scidownl import scihub_download"
   ]
  },
  {
   "cell_type": "code",
   "execution_count": null,
   "metadata": {},
   "outputs": [],
   "source": [
    "x = scihub_download(paper, paper_type=paper_type, out=out)"
   ]
  },
  {
   "cell_type": "code",
   "execution_count": null,
   "metadata": {},
   "outputs": [],
   "source": [
    "x "
   ]
  },
  {
   "cell_type": "code",
   "execution_count": null,
   "metadata": {},
   "outputs": [],
   "source": [
    "if x == 0:\n",
    "    print(\"failed\")\n",
    "else:\n",
    "    print(\"passed\")\n"
   ]
  }
 ],
 "metadata": {
  "kernelspec": {
   "display_name": "Python 3",
   "language": "python",
   "name": "python3"
  },
  "language_info": {
   "codemirror_mode": {
    "name": "ipython",
    "version": 3
   },
   "file_extension": ".py",
   "mimetype": "text/x-python",
   "name": "python",
   "nbconvert_exporter": "python",
   "pygments_lexer": "ipython3",
   "version": "3.11.3"
  }
 },
 "nbformat": 4,
 "nbformat_minor": 2
}
